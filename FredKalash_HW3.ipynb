{
 "cells": [
  {
   "cell_type": "code",
   "execution_count": 12,
   "metadata": {},
   "outputs": [],
   "source": [
    "#Problem 1"
   ]
  },
  {
   "cell_type": "code",
   "execution_count": 13,
   "metadata": {},
   "outputs": [
    {
     "data": {
      "text/plain": [
       "'\\nPython code is delivered. The basic idea is to integrate L(t).\\nAnd then construct an approximate PDF by looking at small intervals \\nP(X==x) ~= P(x-d < X < x+d) where d is very small.\\n'"
      ]
     },
     "execution_count": 13,
     "metadata": {},
     "output_type": "execute_result"
    }
   ],
   "source": [
    "\"\"\"\n",
    "Python code is delivered. The basic idea is to integrate L(t).\n",
    "And then construct an approximate PDF by looking at small intervals \n",
    "P(X==x) ~= P(x-d < X < x+d) where d is very small.\n",
    "\"\"\""
   ]
  },
  {
   "cell_type": "markdown",
   "metadata": {},
   "source": [
    "The integral of $t^3$ is $t^4/4 + C$\n",
    "\n",
    "When evaluated from 0 to x you have\n",
    "\n",
    "$x^4/4$\n",
    "\n",
    "So\n",
    "\n",
    "$P(X \\ge x) = exp(-x^4/4)$"
   ]
  },
  {
   "cell_type": "code",
   "execution_count": 14,
   "metadata": {},
   "outputs": [
    {
     "name": "stdout",
     "output_type": "stream",
     "text": [
      "2.718281828459045\n"
     ]
    }
   ],
   "source": [
    "import pandas as pd\n",
    "import numpy as np\n",
    "\n",
    "np.random.seed(0)\n",
    "e =  np.exp(1)\n",
    "print(e)\n"
   ]
  },
  {
   "cell_type": "code",
   "execution_count": 15,
   "metadata": {},
   "outputs": [
    {
     "name": "stdout",
     "output_type": "stream",
     "text": [
      "0.5004201654701564\n"
     ]
    }
   ],
   "source": [
    "print(e**(-(1.29**4)/4))"
   ]
  },
  {
   "cell_type": "code",
   "execution_count": 16,
   "metadata": {},
   "outputs": [],
   "source": [
    "# general pdf lookup table \n",
    "# x_array are possible rv draws\n",
    "# p_greater is the CDF approximation\n",
    "x_array = np.linspace(0, 5, num=300) \n",
    "p_greater = np.exp(-(x_array**4)/4)"
   ]
  },
  {
   "cell_type": "code",
   "execution_count": 17,
   "metadata": {},
   "outputs": [
    {
     "data": {
      "text/plain": [
       "array([1.        , 0.99999998, 0.99999969, 0.99999842, 0.999995  ])"
      ]
     },
     "execution_count": 17,
     "metadata": {},
     "output_type": "execute_result"
    }
   ],
   "source": [
    "p_greater[0:5]"
   ]
  },
  {
   "cell_type": "code",
   "execution_count": 18,
   "metadata": {},
   "outputs": [
    {
     "data": {
      "text/plain": [
       "array([0.        , 0.01672241, 0.03344482, 0.05016722, 0.06688963])"
      ]
     },
     "execution_count": 18,
     "metadata": {},
     "output_type": "execute_result"
    }
   ],
   "source": [
    "x_array[0:5]"
   ]
  },
  {
   "cell_type": "code",
   "execution_count": 19,
   "metadata": {},
   "outputs": [],
   "source": [
    "def get_rv(unif_val):\n",
    "    \"\"\"\n",
    "    Approximate PDF using CDF and intervals.\n",
    "    \"\"\"\n",
    "    for j in range(len(p_greater)-1):\n",
    "        if unif_val <= p_greater[j] and unif_val >= p_greater[j+1]:\n",
    "            return x_array[j]\n",
    "    return np.nan\n",
    "    \n"
   ]
  },
  {
   "cell_type": "code",
   "execution_count": 20,
   "metadata": {},
   "outputs": [
    {
     "data": {
      "text/plain": [
       "<matplotlib.axes._subplots.AxesSubplot at 0x116b78460>"
      ]
     },
     "execution_count": 20,
     "metadata": {},
     "output_type": "execute_result"
    },
    {
     "data": {
      "image/png": "[encoded data removed]",
      "text/plain": [
       "<Figure size 432x288 with 1 Axes>"
      ]
     },
     "metadata": {
      "needs_background": "light"
     },
     "output_type": "display_data"
    }
   ],
   "source": [
    "u_rv = np.random.uniform(0,1,1000)\n",
    "haz_rv = [get_rv(x) for x in u_rv]\n",
    "pd.Series(haz_rv).hist()"
   ]
  },
  {
   "cell_type": "code",
   "execution_count": null,
   "metadata": {},
   "outputs": [],
   "source": []
  },
  {
   "cell_type": "code",
   "execution_count": 21,
   "metadata": {},
   "outputs": [],
   "source": [
    "#Problem 2"
   ]
  },
  {
   "cell_type": "code",
   "execution_count": 22,
   "metadata": {},
   "outputs": [],
   "source": [
    "#a"
   ]
  },
  {
   "cell_type": "markdown",
   "metadata": {},
   "source": [
    "$X_n$ follows the binomial distribution with parameters n ∈ ℕ and p ∈ [0,1], we write X ~ B(n, p). The probability of getting exactly k successes in n independent Bernoulli trials\n",
    "\n",
    "Mean of Xn is np because there are n independent Bernoulli trials with parameter p which is the mean of the trial.\n",
    "\n",
    "Variance of Xn is np(1-p) because there are n independent Bernoulli trials where the variance of each trial is p(1-p). \n",
    "\n",
    "For the next question part b) notice that via E(nx) = nE(x) so E(X/n) = E(x)/n = np / n = p\n",
    "\n",
    " notice that via V(x/n) = V(x)/n^2 so  np(1-p)/n^2 = p(1-p)/n where p(1-p) is maximized at p = 1/2"
   ]
  },
  {
   "cell_type": "code",
   "execution_count": 23,
   "metadata": {},
   "outputs": [],
   "source": [
    "#b"
   ]
  },
  {
   "cell_type": "markdown",
   "metadata": {},
   "source": [
    "This follows directly from Chebyshev's inequality given the sample mean of n Bernoulli trials:\n",
    "\n",
    "\n",
    "$\n",
    "    \\Pr(|X-\\mu|\\geq k\\sigma) \\leq \\frac{1}{k^2}\n",
    "$\n",
    "\n",
    "where the max variance of a Bernoulli RV is when p = 1/2 so p(1-p) = 1/4\n",
    "\n",
    "\n",
    "$\n",
    "    \\Pr(|X-\\mu|\\geq \\epsilon) \\leq \\frac{\\sigma^2}{\\epsilon^2}\n",
    "$\n",
    "\n",
    "So we can bound the RHS using 1/4n\n",
    "\n",
    "$ \\sigma^2 = \\frac{1}{4n}$\n",
    "\n",
    "Which proves this bound using the mean and variance of n Bernoulli trials\n",
    "\n",
    "$\n",
    "    \\Pr(|X_{n}/n-p|\\geq \\epsilon) \\leq \\frac{1}{4n\\epsilon^2}\n",
    "$\n"
   ]
  },
  {
   "cell_type": "markdown",
   "metadata": {},
   "source": [
    "---------------------------------------------------------\n",
    "\n",
    "\n",
    "Alternatively using the above we can go the other way\n",
    "\n",
    "$\n",
    "    \\Pr(|X-\\mu|\\geq k\\sigma) \\leq \\frac{1}{k^2}\n",
    "$\n",
    "\n",
    "With\n",
    "$ \\frac{1}{4n\\epsilon^2} =  \\frac{1}{k^2}$\n",
    "\n",
    "So\n",
    "\n",
    "$ k = 2\\epsilon  \\sqrt{n} $\n",
    "\n",
    "So given our example\n",
    "\n",
    "$ \\epsilon = 2\\epsilon  \\sqrt{n} \\sigma $\n",
    "\n",
    "\n",
    "$ \\sigma = \\frac{1}{2\\sqrt{n}}$\n",
    "\n",
    "$ \\sigma^2 = \\frac{1}{4n}$\n",
    "\n",
    "We know max var is 1/4n given the variance is maximized at p = 1/2 "
   ]
  },
  {
   "cell_type": "code",
   "execution_count": 24,
   "metadata": {},
   "outputs": [],
   "source": [
    "#c"
   ]
  },
  {
   "cell_type": "markdown",
   "metadata": {},
   "source": [
    "$\\epsilon = 1/100$\n",
    "\n",
    "$\n",
    "    \\Pr(|X/n-p|\\geq 0.01) \\leq \\frac{1}{4n\\epsilon^2}\n",
    "$\n",
    "\n",
    "$\n",
    "    \\Pr(|X/n-p|\\lt 0.01) \\gt \\frac{1}{4n\\epsilon^2}\n",
    "$\n",
    "\n",
    "$\n",
    " 1-0.95 = 0.05 \\gt \\frac{1}{4n\\epsilon^2}\n",
    "$\n",
    "\n",
    "$\n",
    " n \\gt \\frac{100}{5} \\frac{1}{4*(1/100)^2}\n",
    "$\n",
    "\n",
    "$\n",
    " n \\gt 50000\n",
    "$\n",
    "\n"
   ]
  },
  {
   "cell_type": "code",
   "execution_count": 25,
   "metadata": {},
   "outputs": [
    {
     "data": {
      "text/plain": [
       "0.05"
      ]
     },
     "execution_count": 25,
     "metadata": {},
     "output_type": "execute_result"
    }
   ],
   "source": [
    "1/(4*50000*0.01**2)"
   ]
  },
  {
   "cell_type": "code",
   "execution_count": 26,
   "metadata": {},
   "outputs": [
    {
     "data": {
      "text/plain": [
       "0.041666666666666664"
      ]
     },
     "execution_count": 26,
     "metadata": {},
     "output_type": "execute_result"
    }
   ],
   "source": [
    "1/(4*60000*0.01**2)"
   ]
  },
  {
   "cell_type": "code",
   "execution_count": 28,
   "metadata": {},
   "outputs": [],
   "source": [
    "# Increasing sample size reduces sample variance. "
   ]
  },
  {
   "cell_type": "code",
   "execution_count": null,
   "metadata": {},
   "outputs": [],
   "source": []
  },
  {
   "cell_type": "code",
   "execution_count": 29,
   "metadata": {},
   "outputs": [],
   "source": [
    "#Problem 3"
   ]
  },
  {
   "cell_type": "code",
   "execution_count": 30,
   "metadata": {},
   "outputs": [
    {
     "data": {
      "text/plain": [
       "100"
      ]
     },
     "execution_count": 30,
     "metadata": {},
     "output_type": "execute_result"
    }
   ],
   "source": [
    "np.random.seed(1)\n",
    "\n",
    "\n",
    "def markov(prior_x):\n",
    "    # given prior_x, randomly pick next x\n",
    "    if prior_x == 1:\n",
    "        return np.random.choice([1,2,3], 1, p=[0.4, 0.38, 0.22])[0]\n",
    "    elif prior_x == 2:\n",
    "        return np.random.choice([1,2,3], 1, p=[0.12, 0.7, 0.18])[0]\n",
    "    else: #prior_x == 3:\n",
    "        return np.random.choice([1,2,3], 1, p=[0.2, 0.5, 0.3])[0]\n",
    "\n",
    "output_list = []\n",
    "n = 0\n",
    "x = 1\n",
    "while n < 100:\n",
    "    n += 1\n",
    "    output_list.append(x)\n",
    "    x = markov(x)\n",
    "\n",
    "len(output_list)"
   ]
  },
  {
   "cell_type": "code",
   "execution_count": 31,
   "metadata": {},
   "outputs": [
    {
     "data": {
      "text/plain": [
       "<matplotlib.axes._subplots.AxesSubplot at 0x116c5a340>"
      ]
     },
     "execution_count": 31,
     "metadata": {},
     "output_type": "execute_result"
    },
    {
     "data": {
      "image/png": "[encoded data removed]",
      "text/plain": [
       "<Figure size 432x288 with 1 Axes>"
      ]
     },
     "metadata": {
      "needs_background": "light"
     },
     "output_type": "display_data"
    }
   ],
   "source": [
    "pd.Series(output_list).plot()"
   ]
  },
  {
   "cell_type": "code",
   "execution_count": 32,
   "metadata": {},
   "outputs": [],
   "source": [
    "#b"
   ]
  },
  {
   "cell_type": "code",
   "execution_count": 33,
   "metadata": {},
   "outputs": [
    {
     "name": "stdout",
     "output_type": "stream",
     "text": [
      "1000\n"
     ]
    }
   ],
   "source": [
    "np.random.seed(0)\n",
    "output_list = []\n",
    "n = 0\n",
    "x = 1\n",
    "while n < 1000:\n",
    "    n += 1\n",
    "    output_list.append(x)\n",
    "    x = markov(x)\n",
    "\n",
    "print(n)\n",
    "x_array = np.array(output_list)"
   ]
  },
  {
   "cell_type": "code",
   "execution_count": 34,
   "metadata": {},
   "outputs": [
    {
     "name": "stdout",
     "output_type": "stream",
     "text": [
      "2.024\n",
      "2.024\n"
     ]
    }
   ],
   "source": [
    "# 2.024 for single realization for b part 1\n",
    "print((1/n)*sum(x_array))\n",
    "print(np.mean(x_array))"
   ]
  },
  {
   "cell_type": "code",
   "execution_count": 35,
   "metadata": {},
   "outputs": [
    {
     "name": "stdout",
     "output_type": "stream",
     "text": [
      "43.64761954775828\n"
     ]
    }
   ],
   "source": [
    "# 43.64761954775828 for single realization for b part 2\n",
    "x2_array = x_array*x_array\n",
    "b0 = [0.9]*1000\n",
    "b1 = [j**i for i,j in enumerate(b0)]\n",
    "bk_array = np.array(b1)\n",
    "print(np.sum(x2_array*bk_array))"
   ]
  },
  {
   "cell_type": "code",
   "execution_count": 36,
   "metadata": {},
   "outputs": [],
   "source": [
    "#c"
   ]
  },
  {
   "cell_type": "code",
   "execution_count": 37,
   "metadata": {},
   "outputs": [
    {
     "name": "stdout",
     "output_type": "stream",
     "text": [
      "2.0533333333333332 46.20000000000001\n"
     ]
    }
   ],
   "source": [
    "np.random.seed(0)\n",
    "\n",
    "\n",
    "b0 = [0.9]*1000\n",
    "b1 = [j**i for i,j in enumerate(b0)]\n",
    "BK = np.array(b1)\n",
    "\n",
    "\n",
    "def get_expected_x(m_trials):\n",
    "    trials_list1 = []\n",
    "    trials_list2 = []\n",
    "    for j in range(m_trials):\n",
    "        output_list = []\n",
    "        n = 0\n",
    "        x = 1\n",
    "        while n < 1000:\n",
    "            n += 1\n",
    "            output_list.append(x)\n",
    "            x = markov(x)\n",
    "        x = np.array(x)\n",
    "        x2 = x*x\n",
    "        trials_list1.append(np.mean(x))\n",
    "        trials_list2.append(np.sum(x2*BK))\n",
    "        \n",
    "    return np.mean(trials_list1), np.mean(trials_list2)\n",
    "\n",
    "\n",
    "e1,e2  = get_expected_x(300)\n",
    "print(e1,e2)\n",
    "# answers\n",
    "# 2.0533333333333332 \n",
    "# 46.20000000000001"
   ]
  }
 ],
 "metadata": {
  "kernelspec": {
   "display_name": "Python 3",
   "language": "python",
   "name": "python3"
  },
  "language_info": {
   "codemirror_mode": {
    "name": "ipython",
    "version": 3
   },
   "file_extension": ".py",
   "mimetype": "text/x-python",
   "name": "python",
   "nbconvert_exporter": "python",
   "pygments_lexer": "ipython3",
   "version": "3.8.3"
  }
 },
 "nbformat": 4,
 "nbformat_minor": 4
}
